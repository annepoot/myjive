{
 "cells": [
  {
   "cell_type": "markdown",
   "id": "6924d9be-df05-4bb7-81f7-4d34a7a785da",
   "metadata": {},
   "source": [
    "## Preliminaries"
   ]
  },
  {
   "cell_type": "code",
   "execution_count": 4,
   "id": "2e95ee22-111e-4405-97a0-89e7cd35ed9f",
   "metadata": {},
   "outputs": [],
   "source": [
    "import sys\n",
    "sys.path.append('../')\n",
    "\n",
    "import matplotlib.pyplot as plt\n",
    "\n",
    "import proputils as pu\n",
    "import main\n",
    "from names import GlobNames as gn\n",
    "\n",
    "%matplotlib tk"
   ]
  },
  {
   "cell_type": "markdown",
   "id": "e835c4f4-2209-4d4d-98f5-3920c5edb61c",
   "metadata": {},
   "source": [
    "## Configuring the model"
   ]
  },
  {
   "cell_type": "code",
   "execution_count": 5,
   "id": "3565a207-1684-4522-b8d6-df77bccc7bcc",
   "metadata": {},
   "outputs": [],
   "source": [
    "props = pu.parse_file('frame.pro')\n"
   ]
  },
  {
   "cell_type": "markdown",
   "id": "b913dd24-8f0d-48fb-b6fa-720ba75aefc3",
   "metadata": {},
   "source": [
    "## Solving"
   ]
  },
  {
   "cell_type": "code",
   "execution_count": 6,
   "id": "824391d0-c5a6-408d-825d-3334e6c2c950",
   "metadata": {},
   "outputs": [
    {
     "name": "stdout",
     "output_type": "stream",
     "text": [
      "Initializing module chain...\n",
      "InitModule: Creating DofSpace...\n",
      "InitModule: Reading geo mesh file frame.geom ...\n",
      "done reading geo 10 elements\n",
      "InitModule: Creating node groups...\n",
      "InitModule: Created group bl with nodes [0]\n",
      "InitModule: Created group tl with nodes [1]\n",
      "InitModule: Created group tr with nodes [2]\n",
      "InitModule: Created group br with nodes [3]\n",
      "InitModule: Creating model...\n",
      "Creating Line2Shape...\n",
      "Running chain...\n",
      "Running time step 0\n",
      "Iteration 1, relative residual norm: 9.4556e-02\n",
      "Iteration 2, relative residual norm: 3.1224e-06\n",
      "Iteration 3, relative residual norm: 1.0379e-08\n",
      "Running time step 1\n",
      "Iteration 1, relative residual norm: 5.2029e-04\n",
      "Iteration 2, relative residual norm: 5.3580e-04\n",
      "Iteration 3, relative residual norm: 5.4979e-04\n",
      "Iteration 4, relative residual norm: 5.6641e-04\n",
      "Iteration 5, relative residual norm: 5.8637e-04\n",
      "Iteration 6, relative residual norm: 6.1041e-04\n",
      "Iteration 7, relative residual norm: 6.3950e-04\n",
      "Iteration 8, relative residual norm: 6.7494e-04\n",
      "Iteration 9, relative residual norm: 7.1849e-04\n",
      "Iteration 10, relative residual norm: 7.7263e-04\n",
      "Running time step 2\n",
      "Iteration 1, relative residual norm: 5.5713e-05\n",
      "Iteration 2, relative residual norm: 7.6481e-05\n",
      "Iteration 3, relative residual norm: 1.1286e-04\n",
      "Iteration 4, relative residual norm: 2.0221e-04\n",
      "Iteration 5, relative residual norm: 5.1867e-04\n",
      "Iteration 6, relative residual norm: 2.7290e-03\n",
      "Iteration 7, relative residual norm: 7.0018e-02\n",
      "Iteration 8, relative residual norm: 1.3627e-01\n",
      "Iteration 9, relative residual norm: 2.7467e-02\n",
      "Iteration 10, relative residual norm: 4.8801e-02\n",
      "Running time step 3\n",
      "Iteration 1, relative residual norm: 1.8561e-02\n",
      "Iteration 2, relative residual norm: 1.0402e-02\n",
      "Iteration 3, relative residual norm: 1.0256e-02\n",
      "Iteration 4, relative residual norm: 8.0887e-03\n",
      "Iteration 5, relative residual norm: 7.1299e-03\n",
      "Iteration 6, relative residual norm: 6.2331e-03\n",
      "Iteration 7, relative residual norm: 5.5672e-03\n",
      "Iteration 8, relative residual norm: 5.0218e-03\n",
      "Iteration 9, relative residual norm: 4.5749e-03\n",
      "Iteration 10, relative residual norm: 4.2012e-03\n",
      "Running time step 4\n",
      "Iteration 1, relative residual norm: 6.4431e-03\n",
      "Iteration 2, relative residual norm: 5.6596e-03\n",
      "Iteration 3, relative residual norm: 5.2719e-03\n",
      "Iteration 4, relative residual norm: 4.8855e-03\n",
      "Iteration 5, relative residual norm: 4.5622e-03\n",
      "Iteration 6, relative residual norm: 4.2802e-03\n",
      "Iteration 7, relative residual norm: 4.0339e-03\n",
      "Iteration 8, relative residual norm: 3.8171e-03\n",
      "Iteration 9, relative residual norm: 3.6250e-03\n",
      "Iteration 10, relative residual norm: 3.4541e-03\n",
      "Running time step 5\n",
      "Iteration 1, relative residual norm: 4.8187e-03\n",
      "Iteration 2, relative residual norm: 4.5138e-03\n",
      "Iteration 3, relative residual norm: 4.3117e-03\n",
      "Iteration 4, relative residual norm: 4.1187e-03\n",
      "Iteration 5, relative residual norm: 3.9469e-03\n",
      "Iteration 6, relative residual norm: 3.7918e-03\n",
      "Iteration 7, relative residual norm: 3.6515e-03\n",
      "Iteration 8, relative residual norm: 3.5242e-03\n",
      "Iteration 9, relative residual norm: 3.4082e-03\n",
      "Iteration 10, relative residual norm: 3.3023e-03\n",
      "Running time step 6\n",
      "Iteration 1, relative residual norm: 4.2549e-03\n",
      "Iteration 2, relative residual norm: 4.1403e-03\n",
      "Iteration 3, relative residual norm: 3.9977e-03\n",
      "Iteration 4, relative residual norm: 3.8814e-03\n",
      "Iteration 5, relative residual norm: 3.7695e-03\n",
      "Iteration 6, relative residual norm: 3.6683e-03\n",
      "Iteration 7, relative residual norm: 3.5745e-03\n",
      "Iteration 8, relative residual norm: 3.4880e-03\n",
      "Iteration 9, relative residual norm: 3.4079e-03\n",
      "Iteration 10, relative residual norm: 3.3337e-03\n",
      "Running time step 7\n",
      "Iteration 1, relative residual norm: 4.0440e-03\n",
      "Iteration 2, relative residual norm: 4.0429e-03\n",
      "Iteration 3, relative residual norm: 3.9127e-03\n",
      "Iteration 4, relative residual norm: 3.8445e-03\n",
      "Iteration 5, relative residual norm: 3.7596e-03\n",
      "Iteration 6, relative residual norm: 3.6894e-03\n",
      "Iteration 7, relative residual norm: 3.6203e-03\n",
      "Iteration 8, relative residual norm: 3.5572e-03\n",
      "Iteration 9, relative residual norm: 3.4975e-03\n",
      "Iteration 10, relative residual norm: 3.4419e-03\n",
      "Running time step 8\n",
      "Iteration 1, relative residual norm: 3.9946e-03\n",
      "Iteration 2, relative residual norm: 4.0734e-03\n",
      "Iteration 3, relative residual norm: 3.9295e-03\n",
      "Iteration 4, relative residual norm: 3.9057e-03\n",
      "Iteration 5, relative residual norm: 3.8266e-03\n",
      "Iteration 6, relative residual norm: 3.7819e-03\n",
      "Iteration 7, relative residual norm: 3.7243e-03\n",
      "Iteration 8, relative residual norm: 3.6784e-03\n",
      "Iteration 9, relative residual norm: 3.6305e-03\n",
      "Iteration 10, relative residual norm: 3.5880e-03\n",
      "Running time step 9\n",
      "Iteration 1, relative residual norm: 4.0320e-03\n",
      "Iteration 2, relative residual norm: 4.1714e-03\n",
      "Iteration 3, relative residual norm: 3.9969e-03\n",
      "Iteration 4, relative residual norm: 4.0246e-03\n",
      "Iteration 5, relative residual norm: 3.9295e-03\n",
      "Iteration 6, relative residual norm: 3.9179e-03\n",
      "Iteration 7, relative residual norm: 3.8560e-03\n",
      "Iteration 8, relative residual norm: 3.8311e-03\n",
      "Iteration 9, relative residual norm: 3.7848e-03\n",
      "Iteration 10, relative residual norm: 3.7565e-03\n",
      "End of execution\n"
     ]
    }
   ],
   "source": [
    "globdat = main.jive(props)\n"
   ]
  },
  {
   "cell_type": "markdown",
   "id": "da43df1e-bf3b-41a5-9147-49fe57f4432f",
   "metadata": {},
   "source": [
    "## Postprocessing"
   ]
  },
  {
   "cell_type": "code",
   "execution_count": null,
   "id": "successful-reliance",
   "metadata": {},
   "outputs": [],
   "source": []
  }
 ],
 "metadata": {
  "kernelspec": {
   "display_name": "Python 3 (ipykernel)",
   "language": "python",
   "name": "python3"
  },
  "language_info": {
   "codemirror_mode": {
    "name": "ipython",
    "version": 3
   },
   "file_extension": ".py",
   "mimetype": "text/x-python",
   "name": "python",
   "nbconvert_exporter": "python",
   "pygments_lexer": "ipython3",
   "version": "3.10.4"
  }
 },
 "nbformat": 4,
 "nbformat_minor": 5
}
